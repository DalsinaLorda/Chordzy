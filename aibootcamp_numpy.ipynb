{
  "cells": [
    {
      "cell_type": "markdown",
      "metadata": {
        "id": "view-in-github",
        "colab_type": "text"
      },
      "source": [
        "<a href=\"https://colab.research.google.com/github/DalsinaLorda/Chordzy/blob/main/aibootcamp_numpy.ipynb\" target=\"_parent\"><img src=\"https://colab.research.google.com/assets/colab-badge.svg\" alt=\"Open In Colab\"/></a>"
      ]
    },
    {
      "cell_type": "markdown",
      "source": [
        "![](https://drive.google.com/uc?export=view&id=15_DdTY6GOFnj4oLK3vf9zS6UQoL4osGW)"
      ],
      "metadata": {
        "id": "ZNPr7Do5e6Mc"
      }
    },
    {
      "cell_type": "markdown",
      "metadata": {
        "id": "qVrTo-LhL9eS"
      },
      "source": [
        "# NumPy"
      ]
    },
    {
      "cell_type": "markdown",
      "source": [
        "NumPy (short for Numerical Python) provides an efficient interface to store and operate on dense data buffers. In some ways, NumPy arrays are like Python's built-in list type, but NumPy arrays provide much more efficient storage and data operations as the arrays grow larger in size. NumPy arrays form the core of nearly the entire ecosystem of data science tools in Python, so time spent learning to use NumPy effectively will be valuable no matter what aspect of data science interests you.\n",
        "\n",
        "If you followed the advice outlined in the Preface and installed the Anaconda stack, you already have NumPy installed and ready to go. If you're more the do-it-yourself type, you can go to http://www.numpy.org/ and follow the installation instructions found there. Once you do, you can import NumPy and double-check the version:"
      ],
      "metadata": {
        "id": "weLi5IiV0Owa"
      }
    },
    {
      "cell_type": "markdown",
      "source": [
        "## Libraries\n"
      ],
      "metadata": {
        "id": "sitXhntM4lP8"
      }
    },
    {
      "cell_type": "code",
      "source": [
        "import numpy as np"
      ],
      "metadata": {
        "id": "6D-nCwfP4qB0"
      },
      "execution_count": null,
      "outputs": []
    },
    {
      "cell_type": "markdown",
      "source": [
        "## Python Data Type Representation"
      ],
      "metadata": {
        "id": "-Xlyo-vvOH80"
      }
    },
    {
      "cell_type": "markdown",
      "source": [
        "An integer in Python 3.4 is represented in C as follows:\n",
        "\n",
        "```\n",
        "struct _longobject {\n",
        "    long ob_refcnt;\n",
        "    PyTypeObject *ob_type;\n",
        "    size_t ob_size;\n",
        "    long ob_digit[1];\n",
        "};\n",
        "```\n",
        "\n",
        "And the four pieces of data it contains are:\n",
        "\n",
        "*   **ob_refcnt**, a reference count that\n",
        "helps Python silently handle memory allocation and deallocation\n",
        "*   **ob_type**, which encodes the type of the variable\n",
        "*   **ob_size**, which specifies the size of the following data members\n",
        "*   **ob_digit**, which contains the actual integer value that we expect the Python variable to represent.\n",
        "\n",
        "\n",
        "This means that there is some overhead in storing an integer in Python as compared to an integer in a compiled language like C, as illustrated in the following figure:\n",
        "\n",
        "![](https://drive.google.com/uc?export=view&id=1KFT_BZZr-jg1NiGsMiJ32XwlZPWhsN8H)\n",
        "\n",
        "Here PyObject_HEAD is the part of the structure containing the reference count, type code, and other pieces mentioned before.\n",
        "\n",
        "This extra information in the Python integer structure is what allows Python to be coded so freely and dynamically. All this additional information in Python types comes at a cost, however, which becomes especially apparent in structures that combine many of these objects.\n",
        "\n",
        "The overhead becomes more pronounce when working with lists of items.  For example, below is the difference between a NumPy array and Python list:\n",
        "\n",
        "\n",
        "![](https://drive.google.com/uc?export=view&id=1s3r--lKjf5qjJLoK54TMTakRRz7bsN3w)\n",
        "\n"
      ],
      "metadata": {
        "id": "rRk-FXPy5OHp"
      }
    },
    {
      "cell_type": "markdown",
      "source": [
        "## Data Types"
      ],
      "metadata": {
        "id": "zjp70WvtOCk8"
      }
    },
    {
      "cell_type": "markdown",
      "source": [
        "NumPy arrays contain values of a single type, so it is important to have detailed knowledge of what those types and their limitations. Because NumPy is built in C, the types will be familiar to users of C, Fortran, and other related languages.\n",
        "\n",
        "```\n",
        "Data type\tDescription\n",
        "bool_\tBoolean (True or False) stored as a byte\n",
        "int_\tDefault integer type (same as C long; normally either int64 or int32)\n",
        "intc\tIdentical to C int (normally int32 or int64)\n",
        "intp\tInteger used for indexing (same as C ssize_t; normally either int32 or int64)\n",
        "int8\tByte (-128 to 127)\n",
        "int16\tInteger (-32768 to 32767)\n",
        "int32\tInteger (-2147483648 to 2147483647)\n",
        "int64\tInteger (-9223372036854775808 to 9223372036854775807)\n",
        "uint8\tUnsigned integer (0 to 255)\n",
        "uint16\tUnsigned integer (0 to 65535)\n",
        "uint32\tUnsigned integer (0 to 4294967295)\n",
        "uint64\tUnsigned integer (0 to 18446744073709551615)\n",
        "float_\tShorthand for float64.\n",
        "float16\tHalf precision float: sign bit, 5 bits exponent, 10 bits mantissa\n",
        "float32\tSingle precision float: sign bit, 8 bits exponent, 23 bits mantissa\n",
        "float64\tDouble precision float: sign bit, 11 bits exponent, 52 bits mantissa\n",
        "complex_\tShorthand for complex128.\n",
        "complex64\tComplex number, represented by two 32-bit floats\n",
        "complex128\tComplex number, represented by two 64-bit floats\n",
        "```"
      ],
      "metadata": {
        "id": "maur0wCbOggM"
      }
    },
    {
      "cell_type": "markdown",
      "source": [
        "\n",
        "## Arrays\n",
        "\n"
      ],
      "metadata": {
        "id": "IB01io63qJuV"
      }
    },
    {
      "cell_type": "markdown",
      "source": [
        "**NumPy Array vs List**\n",
        "\n",
        "NumPy Array:\n",
        "*   Fixed Data Type\n",
        "*   Can change datatype\n",
        "*   No need to typecasting checking\n",
        "*   Contiguous memory\n",
        "*   E.g: a = [1, 3, 4, 5]\n",
        "\n",
        "\n",
        "List:\n",
        "*   Heterogenous Data Type\n",
        "*   Cab't change datatype\n",
        "*   Need typecasting checking\n",
        "*   Non-contiguous memory\n",
        "*   E.g: a = [1, 3, 'abc', 5]\n"
      ],
      "metadata": {
        "id": "q0yfShwnTxar"
      }
    },
    {
      "cell_type": "markdown",
      "source": [
        "![](https://drive.google.com/uc?export=view&id=1WyUBdIrAMiuo3M6CWbLe7PnYSG6xgbjV)\n",
        "\n",
        "Numpy arrays can have any number of dimensions and different lengths along each dimension. We can inspect the length along each dimension using the .shape property of an array."
      ],
      "metadata": {
        "id": "rpNqfh4XqHct"
      }
    },
    {
      "cell_type": "markdown",
      "source": [
        "### Creation\n",
        "\n",
        "The first step in manipulating arrays is creating them. NumPy provides various functions to create arrays with different shapes and data types. Here are some of the most commonly used array creation functions:\n",
        "\n",
        "\n",
        "```\n",
        "np.array: creates an array from a Python list or tuple\n",
        "np.zeros: creates an array filled with zeros\n",
        "np.ones: creates an array filled with ones\n",
        "np.empty: creates an uninitialized array with random values\n",
        "np.arange: creates an array with evenly spaced values\n",
        "np.linspace: creates an array with a specified number of evenly spaced values between a start and end point\n",
        "```\n",
        "\n",
        "Arrays in NumPy (a.k.a. ndarray) can be created by passing a python list to it and using `np.array()`.  "
      ],
      "metadata": {
        "id": "sAUBit0CUFLU"
      }
    },
    {
      "cell_type": "code",
      "source": [
        "# create a numpy array from a python list\n",
        "import numpy as np\n",
        "my_array = np.array( [1,2,3,4,5] )\n",
        "print(my_array)\n",
        "\n",
        "# create a numpy array from a python list\n",
        "my_array = np.array( [1,2,3,4,5], dtype=int )\n",
        "print(my_array)\n",
        "\n",
        "# create a numpy array from a python list and specifying the data type\n",
        "my_array = np.array( [1,2,3,4,5], dtype='float32')\n",
        "print(my_array)\n",
        "\n",
        "# create a numpy array of 5 elements initialized to the numbers 0 through 4\n",
        "my_array = np.arange(5)\n",
        "print(my_array)\n",
        "\n",
        "print(np.zeros(5))\n"
      ],
      "metadata": {
        "colab": {
          "base_uri": "https://localhost:8080/"
        },
        "id": "kQxPj0xtqL1g",
        "outputId": "998d897e-c16b-4b49-8aa7-3b415c31a6e8"
      },
      "execution_count": 8,
      "outputs": [
        {
          "output_type": "stream",
          "name": "stdout",
          "text": [
            "[1 2 3 4 5]\n",
            "[1 2 3 4 5]\n",
            "[1. 2. 3. 4. 5.]\n",
            "[0 1 2 3 4]\n",
            "[0. 0. 0. 0. 0.]\n"
          ]
        }
      ]
    },
    {
      "cell_type": "markdown",
      "source": [
        "There are often cases when we want NumPy to initialize the values of the array for us. NumPy provides methods like ones(), zeros(), and random.random() for these cases. We just pass them the number of elements we want it to generate:"
      ],
      "metadata": {
        "id": "VQZUBQKhu-xF"
      }
    },
    {
      "cell_type": "code",
      "source": [
        "# create an array of 5 integers initialized to 1\n",
        "my_array = np.ones(5, dtype=int)\n",
        "print(my_array)"
      ],
      "metadata": {
        "colab": {
          "base_uri": "https://localhost:8080/"
        },
        "id": "mTeL1YSju_zf",
        "outputId": "5e2bd02e-1017-4c33-8bc7-43f30da05ea5"
      },
      "execution_count": null,
      "outputs": [
        {
          "output_type": "stream",
          "name": "stdout",
          "text": [
            "[1 1 1 1 1]\n"
          ]
        }
      ]
    },
    {
      "cell_type": "code",
      "source": [
        "# create an array of 5 integers initialized to 0\n",
        "my_array = np.zeros(5, dtype=int)\n",
        "print(my_array)\n"
      ],
      "metadata": {
        "colab": {
          "base_uri": "https://localhost:8080/"
        },
        "id": "jHA1pznKLrzP",
        "outputId": "e247cac6-4aa8-47db-db2a-d2aab01bf886"
      },
      "execution_count": 9,
      "outputs": [
        {
          "output_type": "stream",
          "name": "stdout",
          "text": [
            "[0 0 0 0 0]\n"
          ]
        }
      ]
    },
    {
      "cell_type": "code",
      "source": [
        "# create an array of 5 elements initialized to random floating numbers\n",
        "my_array = np.random.random(5)\n",
        "print(my_array)"
      ],
      "metadata": {
        "colab": {
          "base_uri": "https://localhost:8080/"
        },
        "id": "snxgdquNLvUy",
        "outputId": "3350f6e4-c732-4f3c-d6a9-f98fad9f2766"
      },
      "execution_count": null,
      "outputs": [
        {
          "output_type": "stream",
          "name": "stdout",
          "text": [
            "[0.44296732 0.76865506 0.79510828 0.11946297 0.32009556]\n"
          ]
        }
      ]
    },
    {
      "cell_type": "code",
      "source": [
        "# Create an array of 5 elements filled with 3.14\n",
        "my_array = np.full(5,  3.14)\n",
        "print(my_array)"
      ],
      "metadata": {
        "colab": {
          "base_uri": "https://localhost:8080/"
        },
        "id": "wR7Qw3RrLvwC",
        "outputId": "f3dd1eba-88b7-42d0-d143-f5f3863f3012"
      },
      "execution_count": 10,
      "outputs": [
        {
          "output_type": "stream",
          "name": "stdout",
          "text": [
            "[3.14 3.14 3.14 3.14 3.14]\n"
          ]
        }
      ]
    },
    {
      "cell_type": "code",
      "source": [
        "# Create an array filled with a linear sequence\n",
        "# Starting at 0, ending at 20, stepping by 2\n",
        "# (this is similar to the built-in range() function)\n",
        "my_array = np.arange(0, 20, 2)\n",
        "print(my_array)"
      ],
      "metadata": {
        "colab": {
          "base_uri": "https://localhost:8080/"
        },
        "id": "rIjn6oySLwHx",
        "outputId": "47996cc6-5675-4888-dc1b-79c859362cea"
      },
      "execution_count": null,
      "outputs": [
        {
          "output_type": "stream",
          "name": "stdout",
          "text": [
            "[ 0  2  4  6  8 10 12 14 16 18]\n"
          ]
        }
      ]
    },
    {
      "cell_type": "code",
      "source": [
        "# Create an array of five values evenly spaced between 0 and 1\n",
        "my_array = np.linspace(0, 1, 5)\n",
        "print(my_array)"
      ],
      "metadata": {
        "colab": {
          "base_uri": "https://localhost:8080/"
        },
        "id": "8E8S9N_gMDRX",
        "outputId": "2914171c-b70c-4507-a59f-f15765893c54"
      },
      "execution_count": null,
      "outputs": [
        {
          "output_type": "stream",
          "name": "stdout",
          "text": [
            "[0.   0.25 0.5  0.75 1.  ]\n"
          ]
        }
      ]
    },
    {
      "cell_type": "code",
      "source": [
        "# Create an uninitialized array of five integers\n",
        "# The values will be whatever happens to already exist at that memory location\n",
        "my_array = np.empty(5)\n",
        "print(my_array)"
      ],
      "metadata": {
        "colab": {
          "base_uri": "https://localhost:8080/"
        },
        "id": "wj8R0q_0LwfJ",
        "outputId": "dc5d6b82-8258-4876-b670-4b40ba6dca2a"
      },
      "execution_count": null,
      "outputs": [
        {
          "output_type": "stream",
          "name": "stdout",
          "text": [
            "[3.14 3.14 3.14 3.14 3.14]\n"
          ]
        }
      ]
    },
    {
      "cell_type": "markdown",
      "source": [
        "Finally, unlike Python lists, NumPy arrays can explicitly be multi-dimensional; here's one way of initializing a multidimensional array using a list of lists:\n"
      ],
      "metadata": {
        "id": "wuFxaj6V3VFf"
      }
    },
    {
      "cell_type": "code",
      "source": [
        "# Create a 3x5 floating-point array filled with ones\n",
        "my_array = np.ones((3, 5), dtype=int)\n",
        "print(my_array)\n",
        "\n",
        "# Create a 3x5 array filled with 3.14\n",
        "my_array = np.full((3, 5), 6)\n",
        "print(my_array)"
      ],
      "metadata": {
        "colab": {
          "base_uri": "https://localhost:8080/"
        },
        "id": "eNYbTSMf4aTP",
        "outputId": "ca6667d0-f8cd-4134-ae62-783cbf5b9758"
      },
      "execution_count": 12,
      "outputs": [
        {
          "output_type": "stream",
          "name": "stdout",
          "text": [
            "[[1 1 1 1 1]\n",
            " [1 1 1 1 1]\n",
            " [1 1 1 1 1]]\n",
            "[[6 6 6 6 6]\n",
            " [6 6 6 6 6]\n",
            " [6 6 6 6 6]]\n"
          ]
        }
      ]
    },
    {
      "cell_type": "markdown",
      "source": [
        "### Array Attributes"
      ],
      "metadata": {
        "id": "gyoyXrv4UR5C"
      }
    },
    {
      "cell_type": "markdown",
      "source": [
        "First let's discuss some useful array attributes. We'll start by defining three random arrays, a one-dimensional, two-dimensional, and three-dimensional array. We'll use NumPy's random number generator, which we will seed with a set value in order to ensure that the same random arrays are generated each time this code is run:\n"
      ],
      "metadata": {
        "id": "IXN6FmZKUVeF"
      }
    },
    {
      "cell_type": "code",
      "source": [
        "np.random.seed(0)  # seed for reproducibility\n",
        "\n",
        "x1 = np.random.randint(10, size=6)          # One-dimensional array\n",
        "x2 = np.random.randint(10, size=(3, 4))     # Two-dimensional array\n",
        "x3 = np.random.randint(10, size=(3, 4, 5))  # Three-dimensional array"
      ],
      "metadata": {
        "id": "a551ZeYIUaI5"
      },
      "execution_count": 14,
      "outputs": []
    },
    {
      "cell_type": "code",
      "source": [
        "print(\"x3 ndim: \", x3.ndim)               # the number of dimensions\n",
        "print(\"x3 shape:\", x3.shape)              # the size of each dimension\n",
        "print(\"x3 size: \", x3.size)               # he total size of the array\n",
        "print(\"dtype:\", x3.dtype)                 # the data type of the array\n",
        "print(\"itemsize:\", x3.itemsize, \"bytes\")  # the size (in bytes) of each array element\n",
        "print(\"nbytes:\", x3.nbytes, \"bytes\")      # the total size (in bytes) of the array"
      ],
      "metadata": {
        "colab": {
          "base_uri": "https://localhost:8080/"
        },
        "id": "MM8TXhB3UgV2",
        "outputId": "c00c01c0-17fe-44bc-e747-b9dbf6c9752d"
      },
      "execution_count": 15,
      "outputs": [
        {
          "output_type": "stream",
          "name": "stdout",
          "text": [
            "x3 ndim:  3\n",
            "x3 shape: (3, 4, 5)\n",
            "x3 size:  60\n",
            "dtype: int64\n",
            "itemsize: 8 bytes\n",
            "nbytes: 480 bytes\n"
          ]
        }
      ]
    },
    {
      "cell_type": "markdown",
      "source": [
        "### Indexing"
      ],
      "metadata": {
        "id": "7p2ZhY9Rcrro"
      }
    },
    {
      "cell_type": "code",
      "source": [
        "x = np.array([5, 0, 3, 3, 7, 9])\n",
        "print(x)"
      ],
      "metadata": {
        "colab": {
          "base_uri": "https://localhost:8080/"
        },
        "id": "jFf7hT6mcvcd",
        "outputId": "94b0135b-239f-48fb-cc1a-7362b2d14c61"
      },
      "execution_count": null,
      "outputs": [
        {
          "output_type": "stream",
          "name": "stdout",
          "text": [
            "[5 0 3 3 7 9]\n"
          ]
        }
      ]
    },
    {
      "cell_type": "code",
      "source": [
        "y1 = x[0]  # access first element\n",
        "y2 = x[4]  # access fith element\n",
        "y3 = x[-1] # access last element\n",
        "y4 = x[-2] # access 2nd to the last element\n",
        "print(y1)\n",
        "print(y2)\n",
        "print(y3)\n",
        "print(y4)"
      ],
      "metadata": {
        "colab": {
          "base_uri": "https://localhost:8080/"
        },
        "id": "Wg9bj46xcvPc",
        "outputId": "4a8481ba-2e17-4ceb-f9ce-f1de027277a4"
      },
      "execution_count": null,
      "outputs": [
        {
          "output_type": "stream",
          "name": "stdout",
          "text": [
            "5\n",
            "7\n",
            "9\n",
            "7\n"
          ]
        }
      ]
    },
    {
      "cell_type": "code",
      "source": [
        "x = np.random.randint(10, size=(3, 4)) # create a 2 dimensional array\n",
        "print( x )"
      ],
      "metadata": {
        "colab": {
          "base_uri": "https://localhost:8080/"
        },
        "id": "oBGaAjbIeCYp",
        "outputId": "6b26af5d-4f53-4442-dbf0-6437e9050e22"
      },
      "execution_count": null,
      "outputs": [
        {
          "output_type": "stream",
          "name": "stdout",
          "text": [
            "[[4 3 4 4]\n",
            " [8 4 3 7]\n",
            " [5 5 0 1]]\n"
          ]
        }
      ]
    },
    {
      "cell_type": "code",
      "source": [
        "y1 = x[0, 0] # access element at row 0, column 0\n",
        "y2 = x[2, 1] # access element at row 2, column 1\n",
        "y3 = x[2, -1] # access element at row 2, and last column\n",
        "print( y1 )\n",
        "print( y2 )\n",
        "print( y3 )"
      ],
      "metadata": {
        "colab": {
          "base_uri": "https://localhost:8080/"
        },
        "id": "H3bP-BNwePAh",
        "outputId": "12691915-640e-4669-e768-97b351657462"
      },
      "execution_count": null,
      "outputs": [
        {
          "output_type": "stream",
          "name": "stdout",
          "text": [
            "4\n",
            "5\n",
            "1\n"
          ]
        }
      ]
    },
    {
      "cell_type": "markdown",
      "source": [
        "### Slicing"
      ],
      "metadata": {
        "id": "kv0pt_yzrZ7F"
      }
    },
    {
      "cell_type": "markdown",
      "source": [
        "Just as we can use square brackets to access individual array elements, we can also use them to access subarrays with the slice notation, marked by the colon (:) character. The NumPy slicing syntax follows that of the standard Python list; to access a slice of an array x, use this:\n",
        "\n",
        "\n",
        "```\n",
        "x[start:stop:step]\n",
        "```\n",
        "\n",
        "If any of these are unspecified, they default to the values start=0, stop=size of dimension, step=1. We'll take a look at accessing sub-arrays in one dimension and in multiple dimensions."
      ],
      "metadata": {
        "id": "BT-EclR4rbQh"
      }
    },
    {
      "cell_type": "code",
      "source": [
        "x = np.arange(10)\n",
        "print(x)"
      ],
      "metadata": {
        "colab": {
          "base_uri": "https://localhost:8080/"
        },
        "id": "yqgUrP3erbwV",
        "outputId": "e7ba2396-2fd8-4f93-d5bd-402dfdced158"
      },
      "execution_count": null,
      "outputs": [
        {
          "output_type": "stream",
          "name": "stdout",
          "text": [
            "[0 1 2 3 4 5 6 7 8 9]\n"
          ]
        }
      ]
    },
    {
      "cell_type": "code",
      "source": [
        "y1 = x[:5]  # first five elements\n",
        "y2 = x[5:]  # elements after index 5\n",
        "y3 = x[4:7]  # middle sub-array\n",
        "y4 = x[::2]  # every other element\n",
        "y5 = x[1::2]  # every other element, starting at index 1\n",
        "y6 = x[::-1]  # all elements, reversed\n",
        "y7 = x[5::-2]  # reversed every other from index 5\n",
        "\n",
        "print(y1)\n",
        "print(y2)\n",
        "print(y3)\n",
        "print(y4)\n",
        "print(y5)\n",
        "print(y6)\n",
        "print(y7)"
      ],
      "metadata": {
        "colab": {
          "base_uri": "https://localhost:8080/"
        },
        "id": "sscYl8q4rcTf",
        "outputId": "8cccc9e6-683b-40f4-bf3d-93e789742a49"
      },
      "execution_count": null,
      "outputs": [
        {
          "output_type": "stream",
          "name": "stdout",
          "text": [
            "[0 1 2 3 4]\n",
            "[5 6 7 8 9]\n",
            "[4 5 6]\n",
            "[0 2 4 6 8]\n",
            "[1 3 5 7 9]\n",
            "[9 8 7 6 5 4 3 2 1 0]\n",
            "[5 3 1]\n"
          ]
        }
      ]
    },
    {
      "cell_type": "code",
      "source": [
        "x = np.random.randint(10, size=(3, 4))  # Two-dimensional array\n",
        "print(x)"
      ],
      "metadata": {
        "colab": {
          "base_uri": "https://localhost:8080/"
        },
        "id": "I6JPjEp9wtWB",
        "outputId": "c0ce361f-d354-4163-e62c-499706db4208"
      },
      "execution_count": null,
      "outputs": [
        {
          "output_type": "stream",
          "name": "stdout",
          "text": [
            "[[7 7 5 3]\n",
            " [7 4 0 8]\n",
            " [9 1 8 9]]\n"
          ]
        }
      ]
    },
    {
      "cell_type": "code",
      "source": [
        "# two rows, three columns\n",
        "y = x[:2, :3]\n",
        "print(y)"
      ],
      "metadata": {
        "colab": {
          "base_uri": "https://localhost:8080/"
        },
        "id": "b21GGarAw1rO",
        "outputId": "febadb10-1bc2-4f0f-8bd0-741440d2b365"
      },
      "execution_count": null,
      "outputs": [
        {
          "output_type": "stream",
          "name": "stdout",
          "text": [
            "[[3 2 3]\n",
            " [1 2 9]]\n"
          ]
        }
      ]
    },
    {
      "cell_type": "code",
      "source": [
        "# all rows, every other column\n",
        "y = x[:3, ::2]\n",
        "print(y)"
      ],
      "metadata": {
        "colab": {
          "base_uri": "https://localhost:8080/"
        },
        "id": "0eWb5RQOxCJz",
        "outputId": "e3910487-fcf1-44bd-db52-1e2a3ebc83cb"
      },
      "execution_count": null,
      "outputs": [
        {
          "output_type": "stream",
          "name": "stdout",
          "text": [
            "[[3 3]\n",
            " [1 9]\n",
            " [4 8]]\n"
          ]
        }
      ]
    },
    {
      "cell_type": "code",
      "source": [
        "# Finally, subarray dimensions can even be reversed together:\n",
        "y = x[::-1, ::-1]\n",
        "print(y)"
      ],
      "metadata": {
        "colab": {
          "base_uri": "https://localhost:8080/"
        },
        "id": "OJVDBxnZxOsb",
        "outputId": "6685734f-cdab-4fa8-af9d-efda17104b93"
      },
      "execution_count": null,
      "outputs": [
        {
          "output_type": "stream",
          "name": "stdout",
          "text": [
            "[[2 8 6 4]\n",
            " [1 9 2 1]\n",
            " [4 3 2 3]]\n"
          ]
        }
      ]
    },
    {
      "cell_type": "markdown",
      "source": [
        "**Accessing array rows and columns**\n",
        "\n",
        "One commonly needed routine is accessing of single rows or columns of an array. This can be done by combining indexing and slicing, using an empty slice marked by a single colon (:):"
      ],
      "metadata": {
        "id": "tjL8nvS63JbK"
      }
    },
    {
      "cell_type": "code",
      "source": [
        "print(x[:, 0])  # first column of x\n",
        "print(x[0, :])  # first row of x\n",
        "print(x[0])     # equivalent to x[0, :]"
      ],
      "metadata": {
        "colab": {
          "base_uri": "https://localhost:8080/"
        },
        "id": "qM5z8CW23Y-U",
        "outputId": "6b47a68a-1bcd-4d89-c1c9-e13a7f2635f5"
      },
      "execution_count": null,
      "outputs": [
        {
          "output_type": "stream",
          "name": "stdout",
          "text": [
            "[12  8  8]\n",
            "[12  4  7  7]\n",
            "[12  4  7  7]\n"
          ]
        }
      ]
    },
    {
      "cell_type": "markdown",
      "source": [
        "**Subarrays as no-copy views**\n",
        "\n",
        "One important–and extremely useful–thing to know about array slices is that they return views rather than copies of the array data. This is one area in which NumPy array slicing differs from Python list slicing: in lists, slices will be copies. Consider our two-dimensional array from before:"
      ],
      "metadata": {
        "id": "CeuifKhx4Dn-"
      }
    },
    {
      "cell_type": "code",
      "source": [
        "x = np.random.randint(10, size=(3, 4))  # Two-dimensional array\n",
        "print(x)"
      ],
      "metadata": {
        "colab": {
          "base_uri": "https://localhost:8080/"
        },
        "id": "1ut7gQY94OMb",
        "outputId": "c5956b33-62b1-4272-a451-548b51df6a5c"
      },
      "execution_count": null,
      "outputs": [
        {
          "output_type": "stream",
          "name": "stdout",
          "text": [
            "[[2 7 8 5]\n",
            " [2 4 4 0]\n",
            " [9 6 3 9]]\n"
          ]
        }
      ]
    },
    {
      "cell_type": "code",
      "source": [
        "# Let's extract a 2×2 subarray from x:\n",
        "x_sub = x[:2, :2]\n",
        "print(x_sub)"
      ],
      "metadata": {
        "colab": {
          "base_uri": "https://localhost:8080/"
        },
        "id": "dlDE5Aw_5lWC",
        "outputId": "c71610f8-6a45-44e5-813f-6de3efdf5da9"
      },
      "execution_count": null,
      "outputs": [
        {
          "output_type": "stream",
          "name": "stdout",
          "text": [
            "[[2 7]\n",
            " [2 4]]\n"
          ]
        }
      ]
    },
    {
      "cell_type": "markdown",
      "source": [
        "Now if we modify this subarray, we'll see that the original array is changed! Observe in the following cell. This default behavior is actually quite useful: it means that when we work with large datasets, we can access and process pieces of these datasets without the need to copy the underlying data buffer.\n",
        "\n"
      ],
      "metadata": {
        "id": "741oeL8o8a9F"
      }
    },
    {
      "cell_type": "code",
      "source": [
        "x_sub[0, 0] = 99\n",
        "print(x_sub)"
      ],
      "metadata": {
        "colab": {
          "base_uri": "https://localhost:8080/"
        },
        "id": "rqrPKWZ04WEu",
        "outputId": "89c5a521-57fc-49b5-e859-4121d04dcbe5"
      },
      "execution_count": null,
      "outputs": [
        {
          "output_type": "stream",
          "name": "stdout",
          "text": [
            "[[99  7]\n",
            " [ 2  4]]\n"
          ]
        }
      ]
    },
    {
      "cell_type": "code",
      "source": [
        "print(x)"
      ],
      "metadata": {
        "colab": {
          "base_uri": "https://localhost:8080/"
        },
        "id": "zeVkvoE59Ydk",
        "outputId": "f2424aa1-7a84-4032-cc85-d8c9cf3926aa"
      },
      "execution_count": null,
      "outputs": [
        {
          "output_type": "stream",
          "name": "stdout",
          "text": [
            "[[99  7  8  5]\n",
            " [ 2  4  4  0]\n",
            " [ 9  6  3  9]]\n"
          ]
        }
      ]
    },
    {
      "cell_type": "markdown",
      "source": [
        "### Creating copies of arrays"
      ],
      "metadata": {
        "id": "u4AfN5n380AS"
      }
    },
    {
      "cell_type": "code",
      "source": [
        "x = np.random.randint(10, size=(3, 4))  # Two-dimensional array\n",
        "print(x)"
      ],
      "metadata": {
        "colab": {
          "base_uri": "https://localhost:8080/"
        },
        "id": "JTEF1pcB8_C-",
        "outputId": "85f11b6b-4896-42cf-91da-6f3a0e062ab7"
      },
      "execution_count": null,
      "outputs": [
        {
          "output_type": "stream",
          "name": "stdout",
          "text": [
            "[[8 5 6 3]\n",
            " [2 9 4 1]\n",
            " [7 1 1 4]]\n"
          ]
        }
      ]
    },
    {
      "cell_type": "code",
      "source": [
        "x_sub_copy = x[:2, :2].copy()\n",
        "print(x_sub_copy)"
      ],
      "metadata": {
        "colab": {
          "base_uri": "https://localhost:8080/"
        },
        "id": "viSytcwD84Nu",
        "outputId": "5dfdd53f-3c47-4288-eaae-5d6557897785"
      },
      "execution_count": null,
      "outputs": [
        {
          "output_type": "stream",
          "name": "stdout",
          "text": [
            "[[8 5]\n",
            " [2 9]]\n"
          ]
        }
      ]
    },
    {
      "cell_type": "code",
      "source": [
        "# If we now modify this subarray, the original array is not touched:\n",
        "x_sub_copy[0, 0] = 42\n",
        "print(x_sub_copy)"
      ],
      "metadata": {
        "colab": {
          "base_uri": "https://localhost:8080/"
        },
        "id": "X1x6Sdl-84kE",
        "outputId": "620925b8-f289-4156-9e1d-5854037db978"
      },
      "execution_count": null,
      "outputs": [
        {
          "output_type": "stream",
          "name": "stdout",
          "text": [
            "[[42  5]\n",
            " [ 2  9]]\n"
          ]
        }
      ]
    },
    {
      "cell_type": "code",
      "source": [
        "print(x)"
      ],
      "metadata": {
        "colab": {
          "base_uri": "https://localhost:8080/"
        },
        "id": "bj1zP2_79RDn",
        "outputId": "0488f963-046c-4ecd-d03e-fd7bc6048ee4"
      },
      "execution_count": null,
      "outputs": [
        {
          "output_type": "stream",
          "name": "stdout",
          "text": [
            "[[8 5 6 3]\n",
            " [2 9 4 1]\n",
            " [7 1 1 4]]\n"
          ]
        }
      ]
    },
    {
      "cell_type": "markdown",
      "source": [
        "### Reshaping of Arrays\n",
        "\n",
        "In numpy arrays can be reshape from one dimension to another as long as the size of the original array will match the reshape array.  Here is an example:"
      ],
      "metadata": {
        "id": "BZjTsr84-XMX"
      }
    },
    {
      "cell_type": "code",
      "source": [
        "# create an array integers initialized to numbers 1 through 16\n",
        "my_array = np.arange(1, 17)\n",
        "print('shape:', my_array.shape)\n",
        "print('array:')\n",
        "print(my_array)\n",
        "print()\n",
        "\n",
        "# reshape the array to a 4x4 grid\n",
        "my_array = my_array.reshape((4, 4))\n",
        "print('shape:', my_array.shape)\n",
        "print('array:')\n",
        "print(my_array)"
      ],
      "metadata": {
        "colab": {
          "base_uri": "https://localhost:8080/"
        },
        "id": "9r7KRi4A-dT0",
        "outputId": "c1c1c919-c34d-4f85-baf5-214bf98a1a45"
      },
      "execution_count": null,
      "outputs": [
        {
          "output_type": "stream",
          "name": "stdout",
          "text": [
            "shape: (16,)\n",
            "array:\n",
            "[ 1  2  3  4  5  6  7  8  9 10 11 12 13 14 15 16]\n",
            "\n",
            "shape: (4, 4)\n",
            "array:\n",
            "[[ 1  2  3  4]\n",
            " [ 5  6  7  8]\n",
            " [ 9 10 11 12]\n",
            " [13 14 15 16]]\n"
          ]
        }
      ]
    },
    {
      "cell_type": "markdown",
      "source": [
        "**Reshaping column vector to a row vector and vice versa**"
      ],
      "metadata": {
        "id": "8fNauK43Cdfg"
      }
    },
    {
      "cell_type": "code",
      "source": [
        "x = np.array([1, 2, 3])\n",
        "\n",
        "# row vector via reshape\n",
        "x_row = x.reshape((1, 3))\n",
        "print(x_row)\n",
        "print(x_row.shape)"
      ],
      "metadata": {
        "colab": {
          "base_uri": "https://localhost:8080/"
        },
        "id": "8BSCy35J-1AW",
        "outputId": "9ebb7457-a4da-4e91-f723-707f677b7773"
      },
      "execution_count": null,
      "outputs": [
        {
          "output_type": "stream",
          "name": "stdout",
          "text": [
            "[[1 2 3]]\n",
            "(1, 3)\n"
          ]
        }
      ]
    },
    {
      "cell_type": "code",
      "source": [
        "# row vector via newaxis\n",
        "x_row = x[np.newaxis, :]\n",
        "print(x_row)\n",
        "print(x_row.shape)"
      ],
      "metadata": {
        "colab": {
          "base_uri": "https://localhost:8080/"
        },
        "id": "_p7DUjp9KmsR",
        "outputId": "2259c328-da5a-495f-dd4e-dffdf6444731"
      },
      "execution_count": null,
      "outputs": [
        {
          "output_type": "stream",
          "name": "stdout",
          "text": [
            "[[1 2 3]]\n",
            "(1, 3)\n"
          ]
        }
      ]
    },
    {
      "cell_type": "code",
      "source": [
        "# column vector via reshape\n",
        "x_row = x.reshape((3, 1))\n",
        "print(x_row)\n",
        "print(x_row.shape)"
      ],
      "metadata": {
        "colab": {
          "base_uri": "https://localhost:8080/"
        },
        "id": "UFKWhxS9LKWW",
        "outputId": "9dd7c738-a4d5-4c8e-94d1-336ac724d432"
      },
      "execution_count": null,
      "outputs": [
        {
          "output_type": "stream",
          "name": "stdout",
          "text": [
            "[[1]\n",
            " [2]\n",
            " [3]]\n",
            "(3, 1)\n"
          ]
        }
      ]
    },
    {
      "cell_type": "code",
      "source": [
        "# column vector via newaxis\n",
        "x_row = x[:, np.newaxis]\n",
        "print(x_row)\n",
        "print(x_row.shape)"
      ],
      "metadata": {
        "colab": {
          "base_uri": "https://localhost:8080/"
        },
        "id": "xE41ECl7LUJ5",
        "outputId": "20bc366f-2448-4d27-9bea-9e0a5e6d88a1"
      },
      "execution_count": null,
      "outputs": [
        {
          "output_type": "stream",
          "name": "stdout",
          "text": [
            "[[1]\n",
            " [2]\n",
            " [3]]\n",
            "(3, 1)\n"
          ]
        }
      ]
    },
    {
      "cell_type": "markdown",
      "source": [
        "### Array Concatenation and Splitting\n",
        "\n",
        "NumPy allows combining multiple arrays into one, and to conversely split a single array into multiple arrays."
      ],
      "metadata": {
        "id": "iwmGQ3NwLlKB"
      }
    },
    {
      "cell_type": "code",
      "source": [
        "x = np.array([1, 2, 3])\n",
        "y = np.array([3, 2, 1])\n",
        "z = np.concatenate([x, y])\n",
        "print(z)"
      ],
      "metadata": {
        "colab": {
          "base_uri": "https://localhost:8080/"
        },
        "id": "DonMqHrGLlx2",
        "outputId": "e5ade604-b71e-4925-86c1-08e293b40121"
      },
      "execution_count": null,
      "outputs": [
        {
          "output_type": "stream",
          "name": "stdout",
          "text": [
            "[1 2 3 3 2 1]\n"
          ]
        }
      ]
    },
    {
      "cell_type": "code",
      "source": [
        "#You can also concatenate more than two arrays at once:\n",
        "z = [99, 99, 99]\n",
        "y = np.concatenate([x, y, z])\n",
        "print(y)\n"
      ],
      "metadata": {
        "colab": {
          "base_uri": "https://localhost:8080/"
        },
        "id": "lqLXGmVIL4rA",
        "outputId": "6f5f6269-43c8-48ef-c5a1-e278376bd39e"
      },
      "execution_count": null,
      "outputs": [
        {
          "output_type": "stream",
          "name": "stdout",
          "text": [
            "[ 1  2  3  3  2  1 99 99 99]\n"
          ]
        }
      ]
    },
    {
      "cell_type": "code",
      "source": [
        "# It can also be used for two-dimensional arrays:\n",
        "grid = np.array([[1, 2, 3],\n",
        "                 [4, 5, 6]])\n",
        "\n",
        "# concatenate along the first axis\n",
        "g = np.concatenate([grid, grid])\n",
        "\n",
        "print(g)"
      ],
      "metadata": {
        "colab": {
          "base_uri": "https://localhost:8080/"
        },
        "id": "SPzsecBdMLAX",
        "outputId": "b7fe07bc-bdd9-47c7-c740-bfebdc8c141d"
      },
      "execution_count": null,
      "outputs": [
        {
          "output_type": "stream",
          "name": "stdout",
          "text": [
            "[[1 2 3]\n",
            " [4 5 6]\n",
            " [1 2 3]\n",
            " [4 5 6]]\n"
          ]
        }
      ]
    },
    {
      "cell_type": "code",
      "source": [
        "# concatenate along the second axis (zero-indexed)\n",
        "g = np.concatenate([grid, grid], axis=1)\n",
        "print(g)"
      ],
      "metadata": {
        "colab": {
          "base_uri": "https://localhost:8080/"
        },
        "id": "P5n7IbayMndM",
        "outputId": "10b9914a-2740-4138-c578-043f02449525"
      },
      "execution_count": null,
      "outputs": [
        {
          "output_type": "stream",
          "name": "stdout",
          "text": [
            "[[1 2 3 1 2 3]\n",
            " [4 5 6 4 5 6]]\n"
          ]
        }
      ]
    },
    {
      "cell_type": "markdown",
      "source": [
        "For working with arrays of mixed dimensions, it can be clearer to use the np.vstack (vertical stack) and np.hstack (horizontal stack) functions:"
      ],
      "metadata": {
        "id": "HNsuDdICM-i6"
      }
    },
    {
      "cell_type": "code",
      "source": [
        "x = np.array([1, 2, 3])\n",
        "grid = np.array([[9, 8, 7],\n",
        "                 [6, 5, 4]])\n",
        "\n",
        "# vertically stack the arrays\n",
        "g = np.vstack([x, grid])\n",
        "\n",
        "print(g)"
      ],
      "metadata": {
        "colab": {
          "base_uri": "https://localhost:8080/"
        },
        "id": "WKhCZbqoM11F",
        "outputId": "5e29062e-f155-4d22-e8d6-3599f6cdf3aa"
      },
      "execution_count": null,
      "outputs": [
        {
          "output_type": "stream",
          "name": "stdout",
          "text": [
            "[[1 2 3]\n",
            " [9 8 7]\n",
            " [6 5 4]]\n"
          ]
        }
      ]
    },
    {
      "cell_type": "code",
      "source": [
        "# horizontally stack the arrays\n",
        "y = np.array([[99],\n",
        "              [99]])\n",
        "g = np.hstack([grid, y])\n",
        "\n",
        "print(g)"
      ],
      "metadata": {
        "colab": {
          "base_uri": "https://localhost:8080/"
        },
        "id": "KDCapHTBNGYy",
        "outputId": "8af7239c-e531-4830-cef0-8ae367ee28a5"
      },
      "execution_count": null,
      "outputs": [
        {
          "output_type": "stream",
          "name": "stdout",
          "text": [
            "[[ 9  8  7 99]\n",
            " [ 6  5  4 99]]\n"
          ]
        }
      ]
    },
    {
      "cell_type": "markdown",
      "source": [
        "### Splitting of arrays\n",
        "\n",
        "The opposite of concatenation is splitting, which is implemented by the functions np.split, np.hsplit, and np.vsplit. For each of these, we can pass a list of indices giving the split points:"
      ],
      "metadata": {
        "id": "jJVZofTJNVdA"
      }
    },
    {
      "cell_type": "code",
      "source": [
        "x = [1, 2, 3, 99, 99, 3, 2, 1]\n",
        "\n",
        "# Notice that N split-points,\n",
        "# leads to N + 1 subarrays. The\n",
        "# related functions np.hsplit and\n",
        "# np.vsplit are similar:\n",
        "x1, x2, x3 = np.split(x, [3, 5])\n",
        "print(x1, x2, x3)"
      ],
      "metadata": {
        "colab": {
          "base_uri": "https://localhost:8080/"
        },
        "id": "vzsX_MKuNWNp",
        "outputId": "89c049d6-babf-44b9-b41c-6a67882cfc90"
      },
      "execution_count": null,
      "outputs": [
        {
          "output_type": "stream",
          "name": "stdout",
          "text": [
            "[1 2 3] [99 99] [3 2 1]\n"
          ]
        }
      ]
    },
    {
      "cell_type": "code",
      "source": [
        "grid = np.arange(16).reshape((4, 4))\n",
        "print(grid)"
      ],
      "metadata": {
        "colab": {
          "base_uri": "https://localhost:8080/"
        },
        "id": "OO8_fEgDPVda",
        "outputId": "fbc31f8f-23ca-41eb-8a6d-e079d8f242c3"
      },
      "execution_count": null,
      "outputs": [
        {
          "output_type": "stream",
          "name": "stdout",
          "text": [
            "[[ 0  1  2  3]\n",
            " [ 4  5  6  7]\n",
            " [ 8  9 10 11]\n",
            " [12 13 14 15]]\n"
          ]
        }
      ]
    },
    {
      "cell_type": "code",
      "source": [
        "upper, lower = np.vsplit(grid, [2])\n",
        "print(upper)\n",
        "print(lower)"
      ],
      "metadata": {
        "colab": {
          "base_uri": "https://localhost:8080/"
        },
        "id": "3iwiP3inPfvY",
        "outputId": "5a11f08a-c9e4-46b0-cbab-9c747487b69b"
      },
      "execution_count": null,
      "outputs": [
        {
          "output_type": "stream",
          "name": "stdout",
          "text": [
            "[[0 1 2 3]\n",
            " [4 5 6 7]]\n",
            "[[ 8  9 10 11]\n",
            " [12 13 14 15]]\n"
          ]
        }
      ]
    },
    {
      "cell_type": "code",
      "source": [
        "left, right = np.hsplit(grid, [2])\n",
        "print(left)\n",
        "print(right)"
      ],
      "metadata": {
        "colab": {
          "base_uri": "https://localhost:8080/"
        },
        "id": "aGK2iOYXPi21",
        "outputId": "da09c0b9-766f-49f5-8d7b-75ee204ff92c"
      },
      "execution_count": null,
      "outputs": [
        {
          "output_type": "stream",
          "name": "stdout",
          "text": [
            "[[ 0  1]\n",
            " [ 4  5]\n",
            " [ 8  9]\n",
            " [12 13]]\n",
            "[[ 2  3]\n",
            " [ 6  7]\n",
            " [10 11]\n",
            " [14 15]]\n"
          ]
        }
      ]
    },
    {
      "cell_type": "markdown",
      "source": [
        "### Array arithmetic"
      ],
      "metadata": {
        "id": "o2GpZxhjwJ4J"
      }
    },
    {
      "cell_type": "markdown",
      "source": [
        "Keep in mind that, unlike Python lists, NumPy arrays have a fixed type. This means, for example, that if you attempt to insert a floating-point value to an integer array, the value will be silently truncated. Don't be caught unaware by this behavior!"
      ],
      "metadata": {
        "id": "O2c3Ni7unpSg"
      }
    },
    {
      "cell_type": "code",
      "source": [
        "x = np.arange(4)\n",
        "print(\"x     =\", x)\n",
        "print(\"x + 5 =\", x + 5)\n",
        "print(\"x - 5 =\", x - 5)\n",
        "print(\"x * 2 =\", x * 2)\n",
        "print(\"x / 2 =\", x / 2)\n",
        "print(\"x // 2 =\", x // 2)  # floor division\n",
        "print(\"-x     = \", -x)\n",
        "print(\"x ** 2 = \", x ** 2)\n",
        "print(\"x % 2  = \", x % 2)"
      ],
      "metadata": {
        "colab": {
          "base_uri": "https://localhost:8080/"
        },
        "id": "UCzquFgN3yYA",
        "outputId": "e9f20c17-d846-4e4c-9ab8-6b634588020b"
      },
      "execution_count": null,
      "outputs": [
        {
          "output_type": "stream",
          "name": "stdout",
          "text": [
            "x     = [0 1 2 3]\n",
            "x + 5 = [5 6 7 8]\n",
            "x - 5 = [-5 -4 -3 -2]\n",
            "x * 2 = [0 2 4 6]\n",
            "x / 2 = [0.  0.5 1.  1.5]\n",
            "x // 2 = [0 0 1 1]\n",
            "-x     =  [ 0 -1 -2 -3]\n",
            "x ** 2 =  [0 1 4 9]\n",
            "x % 2  =  [0 1 0 1]\n"
          ]
        }
      ]
    },
    {
      "cell_type": "code",
      "source": [
        "#Absolute value\n",
        "x = np.array([-2, -1, 0, 1, 2])\n",
        "y = np.abs(x)\n",
        "print(x)"
      ],
      "metadata": {
        "colab": {
          "base_uri": "https://localhost:8080/"
        },
        "id": "aT9KkNCqRFTu",
        "outputId": "06b6ed5f-95b2-4956-c7c0-865d1c555223"
      },
      "execution_count": null,
      "outputs": [
        {
          "output_type": "stream",
          "name": "stdout",
          "text": [
            "[-2 -1  0  1  2]\n"
          ]
        }
      ]
    },
    {
      "cell_type": "markdown",
      "source": [
        "### Array Aggregation Functions"
      ],
      "metadata": {
        "id": "nTNNnUlFRrHu"
      }
    },
    {
      "cell_type": "code",
      "source": [
        "x = np.random.random( (4,4) )\n",
        "print(\"x:\")\n",
        "print(x)\n",
        "print(\"min = \", np.min(x) )\n",
        "print(\"max = \", np.max(x) )\n",
        "print(\"sum = \", np.sum(x) )\n",
        "print(\"std = \", np.std(x) )\n",
        "print(\"mean = \", np.mean(x) )\n",
        "print(\"average = \", np.average(x) )\n",
        "print(\"min axis 0 = \", np.min(x, axis=0) )\n",
        "print(\"min axis 1 = \", np.min(x, axis=1) )\n"
      ],
      "metadata": {
        "colab": {
          "base_uri": "https://localhost:8080/"
        },
        "id": "jMFEl6kHRr5B",
        "outputId": "5ac3e8f1-810e-4512-fc33-bac907dc92aa"
      },
      "execution_count": null,
      "outputs": [
        {
          "output_type": "stream",
          "name": "stdout",
          "text": [
            "x:\n",
            "[[0.08357819 0.54177736 0.92043156 0.22793658]\n",
            " [0.92179611 0.562045   0.94920277 0.13207103]\n",
            " [0.82430124 0.12445742 0.69142378 0.81835372]\n",
            " [0.08844248 0.8824531  0.48930418 0.7535714 ]]\n",
            "min =  0.08357819423313484\n",
            "max =  0.9492027680242644\n",
            "sum =  9.011145914786976\n",
            "std =  0.3206641113943162\n",
            "mean =  0.563196619674186\n",
            "average =  0.563196619674186\n",
            "min axis 0 =  [0.08357819 0.12445742 0.48930418 0.13207103]\n",
            "min axis 1 =  [0.08357819 0.13207103 0.12445742 0.08844248]\n"
          ]
        }
      ]
    },
    {
      "cell_type": "markdown",
      "source": [
        "### Array Broadcasting\n",
        "\n",
        "Broadcasting in NumPy allows performing element-wise operations on arrays of different shapes under certain conditions.\n",
        "\n"
      ],
      "metadata": {
        "id": "0_1JhBCeXpe4"
      }
    },
    {
      "cell_type": "code",
      "source": [
        "a = np.array([0, 1, 2])\n",
        "b = np.array([5, 5, 5])\n",
        "print('a:',a)\n",
        "print('b:',b)"
      ],
      "metadata": {
        "colab": {
          "base_uri": "https://localhost:8080/"
        },
        "id": "vPh28hAUXr6y",
        "outputId": "e12aed33-ed4e-4f81-a063-10a376475095"
      },
      "execution_count": null,
      "outputs": [
        {
          "output_type": "stream",
          "name": "stdout",
          "text": [
            "a: [0 1 2]\n",
            "b: [5 5 5]\n"
          ]
        }
      ]
    },
    {
      "cell_type": "code",
      "source": [
        "c = a + 5\n",
        "print('a:',a)\n",
        "print('c:',c)"
      ],
      "metadata": {
        "colab": {
          "base_uri": "https://localhost:8080/"
        },
        "id": "biiDGcz0cizG",
        "outputId": "2d84d944-c7d9-4ffa-82be-dd174a6b33ed"
      },
      "execution_count": null,
      "outputs": [
        {
          "output_type": "stream",
          "name": "stdout",
          "text": [
            "a: [0 1 2]\n",
            "c: [5 6 7]\n"
          ]
        }
      ]
    },
    {
      "cell_type": "code",
      "source": [
        "m = np.ones((3, 3))\n",
        "c = m + a\n",
        "print('a:',a)\n",
        "print('m:')\n",
        "print(m)\n",
        "print('c:')\n",
        "print(c)"
      ],
      "metadata": {
        "colab": {
          "base_uri": "https://localhost:8080/"
        },
        "id": "5ibCQrYodDSI",
        "outputId": "13e2b6b9-5c60-480d-e52f-f36309438cd5"
      },
      "execution_count": null,
      "outputs": [
        {
          "output_type": "stream",
          "name": "stdout",
          "text": [
            "a: [0 1 2]\n",
            "m:\n",
            "[[1. 1. 1.]\n",
            " [1. 1. 1.]\n",
            " [1. 1. 1.]]\n",
            "c:\n",
            "[[1. 2. 3.]\n",
            " [1. 2. 3.]\n",
            " [1. 2. 3.]]\n"
          ]
        }
      ]
    },
    {
      "cell_type": "markdown",
      "source": [
        "### Comparisons\n"
      ],
      "metadata": {
        "id": "LPtWi5_jefD_"
      }
    },
    {
      "cell_type": "code",
      "source": [
        "x = np.array([1, 2, 3, 4, 5])"
      ],
      "metadata": {
        "id": "skqSrFUmeiZ6"
      },
      "execution_count": null,
      "outputs": []
    },
    {
      "cell_type": "code",
      "source": [
        "c = x < 3  # less than\n",
        "print(c)"
      ],
      "metadata": {
        "colab": {
          "base_uri": "https://localhost:8080/"
        },
        "id": "do8DHoTTel8g",
        "outputId": "c5c2c126-3dc7-4fc6-cbb3-be93d2e78ed9"
      },
      "execution_count": null,
      "outputs": [
        {
          "output_type": "stream",
          "name": "stdout",
          "text": [
            "[ True  True False False False]\n"
          ]
        }
      ]
    },
    {
      "cell_type": "code",
      "source": [
        "c = x > 3  # greater than\n",
        "print(c)"
      ],
      "metadata": {
        "colab": {
          "base_uri": "https://localhost:8080/"
        },
        "id": "qQujHokFesK_",
        "outputId": "6632408a-77d5-4374-fe59-60ae5d3bfd9a"
      },
      "execution_count": null,
      "outputs": [
        {
          "output_type": "stream",
          "name": "stdout",
          "text": [
            "[False False False  True  True]\n"
          ]
        }
      ]
    },
    {
      "cell_type": "markdown",
      "source": [
        "### Filtering an Array\n",
        "\n",
        "You can filter a numpy array by creating a list or an array of boolean values indicative of whether or not to keep the element in the corresponding array. This method is called boolean mask slicing. For example, if you filter the array [1, 2, 3] with the boolean list [True, False, True], the filtered array would be [1, 3]."
      ],
      "metadata": {
        "id": "dAeuq3Re310n"
      }
    },
    {
      "cell_type": "code",
      "source": [
        "# create a numpy array\n",
        "arr = np.array([1, 4, 2, 7, 9, 3, 5, 8])\n",
        "\n",
        "# boolean array of which elements to keep, here elements less than 4\n",
        "mask = arr < 4\n",
        "\n",
        "# filter the array\n",
        "arr_filtered = arr[mask]\n",
        "\n",
        "# above filtering in a single line\n",
        "arr_filtered = arr[arr < 4]\n",
        "\n",
        "print('mask:', mask)\n",
        "print('arr:', arr)\n",
        "print('arr_filtered:', arr_filtered)"
      ],
      "metadata": {
        "colab": {
          "base_uri": "https://localhost:8080/"
        },
        "id": "c52PQ1cD34ub",
        "outputId": "acce4224-8842-4206-d1ee-8fa1016d742a"
      },
      "execution_count": null,
      "outputs": [
        {
          "output_type": "stream",
          "name": "stdout",
          "text": [
            "mask: [ True False  True False False  True False False]\n",
            "arr: [1 4 2 7 9 3 5 8]\n",
            "arr_filtered: [1 2 3]\n"
          ]
        }
      ]
    },
    {
      "cell_type": "markdown",
      "source": [
        "Alternatively, you can also use np.where() to get the indexes of the elements to keep and filter the numpy array based on those indexes. The following is the syntax:"
      ],
      "metadata": {
        "id": "eChg6RbW49LY"
      }
    },
    {
      "cell_type": "code",
      "source": [
        "# create a numpy array\n",
        "arr = np.array([1, 4, 2, 7, 9, 3, 5, 8])\n",
        "\n",
        "# indexes to keep based on the condition, here elements less than 4\n",
        "indexes_to_keep = np.where(arr < 4)\n",
        "\n",
        "# filter the array\n",
        "arr_filtered = arr[indexes_to_keep]\n",
        "\n",
        "# above filtering in a single line\n",
        "arr_filtered = arr[np.where(arr < 4)]\n",
        "\n",
        "print('indexes_to_keep:', indexes_to_keep)\n",
        "print('arr:', arr)\n",
        "print('arr_filtered:', arr_filtered)"
      ],
      "metadata": {
        "colab": {
          "base_uri": "https://localhost:8080/"
        },
        "id": "rwUEZTTe467Q",
        "outputId": "16f48f33-4624-4c7a-aa9d-e8f7f01be4cc"
      },
      "execution_count": null,
      "outputs": [
        {
          "output_type": "stream",
          "name": "stdout",
          "text": [
            "indexes_to_keep: (array([0, 2, 5]),)\n",
            "arr: [1 4 2 7 9 3 5 8]\n",
            "arr_filtered: [1 2 3]\n"
          ]
        }
      ]
    },
    {
      "cell_type": "markdown",
      "source": [
        "**Filter array based on two conditions**\n",
        "\n",
        "To filter the array on multiple conditions, you can combine the conditions together using parenthesis () and the “and” & operator – ((condition1) & (condition2) & ...)\n",
        "\n",
        "Let’s filter the array “arr” on two conditions – greater than 5 and less than 9 using boolean masking."
      ],
      "metadata": {
        "id": "sEpMCwKl6naH"
      }
    },
    {
      "cell_type": "code",
      "source": [
        "# create a numpy array\n",
        "arr = np.array([1, 4, 2, 7, 9, 3, 5, 8])\n",
        "\n",
        "# filter array\n",
        "arr_filtered = arr[(arr > 5) & (arr < 9)]\n",
        "\n",
        "print('arr:', arr)\n",
        "print('arr_filtered:', arr_filtered)"
      ],
      "metadata": {
        "colab": {
          "base_uri": "https://localhost:8080/"
        },
        "id": "uVuWrDq06vLH",
        "outputId": "0238f7f8-2f07-4a64-c20d-e0424e74cd1e"
      },
      "execution_count": null,
      "outputs": [
        {
          "output_type": "stream",
          "name": "stdout",
          "text": [
            "arr: [1 4 2 7 9 3 5 8]\n",
            "arr_filtered: [7 8]\n"
          ]
        }
      ]
    },
    {
      "cell_type": "markdown",
      "source": [
        "### Miscelaneous"
      ],
      "metadata": {
        "id": "ngJnpLZw8L9I"
      }
    },
    {
      "cell_type": "markdown",
      "source": [
        "**Get Index of Max Value in Array**"
      ],
      "metadata": {
        "id": "ld4kvUiv8UVV"
      }
    },
    {
      "cell_type": "code",
      "source": [
        "# create numpy array\n",
        "ar = np.array([1, 2, 5, 3, 4])\n",
        "max_val = ar.argmax()\n",
        "\n",
        "# get index of max value in array\n",
        "print('index of max val:', max_val)"
      ],
      "metadata": {
        "colab": {
          "base_uri": "https://localhost:8080/"
        },
        "id": "HyjsJWbw8Oza",
        "outputId": "f1dc7d56-eea4-4ef0-aeec-619fb95c0461"
      },
      "execution_count": null,
      "outputs": [
        {
          "output_type": "stream",
          "name": "stdout",
          "text": [
            "index of max val: 2\n"
          ]
        }
      ]
    },
    {
      "cell_type": "markdown",
      "source": [
        "**Create a diagonal matrix**"
      ],
      "metadata": {
        "id": "tkWwopGT9RKz"
      }
    },
    {
      "cell_type": "code",
      "source": [
        "# create a 1d array of diagonal elements\n",
        "ar = np.array([1, 2, 3])\n",
        "# create a diagonal matrix\n",
        "res = np.diag(ar)\n",
        "# display the returned matrix\n",
        "print(res)"
      ],
      "metadata": {
        "colab": {
          "base_uri": "https://localhost:8080/"
        },
        "id": "CSSem0Wa9TQC",
        "outputId": "2a281685-6572-49a8-b239-fb243acc9b07"
      },
      "execution_count": null,
      "outputs": [
        {
          "output_type": "stream",
          "name": "stdout",
          "text": [
            "[[1 0 0]\n",
            " [0 2 0]\n",
            " [0 0 3]]\n"
          ]
        }
      ]
    },
    {
      "cell_type": "markdown",
      "source": [
        "**Extract the diagonal elements of a numpy array**"
      ],
      "metadata": {
        "id": "W8Bvc6iG95uH"
      }
    },
    {
      "cell_type": "code",
      "source": [
        "# create a 2D numpy array\n",
        "arr = np.array([\n",
        "    [1, 2, 3],\n",
        "    [4, 5, 6],\n",
        "    [7, 8, 9]\n",
        "])\n",
        "# get the diagonal elements\n",
        "res = np.diag(arr)\n",
        "# display the diagonal elements\n",
        "print(res)"
      ],
      "metadata": {
        "colab": {
          "base_uri": "https://localhost:8080/"
        },
        "id": "rwNaZZ7R92Pw",
        "outputId": "f3500a01-4638-4daf-ee53-75a068479cc9"
      },
      "execution_count": null,
      "outputs": [
        {
          "output_type": "stream",
          "name": "stdout",
          "text": [
            "[1 5 9]\n"
          ]
        }
      ]
    },
    {
      "cell_type": "markdown",
      "source": [
        "**Make All Negative Values Zero in Array**"
      ],
      "metadata": {
        "id": "44CT4yTQ-MYk"
      }
    },
    {
      "cell_type": "code",
      "source": [
        "# create a numpy array\n",
        "x = np.array([-2, -1, 0, 1, 2, 3, -4])\n",
        "\n",
        "# set negative values to zero\n",
        "x[x < 0] = 0\n",
        "\n",
        "# display the array\n",
        "print(x)"
      ],
      "metadata": {
        "colab": {
          "base_uri": "https://localhost:8080/"
        },
        "id": "v_Sywkc3-NE4",
        "outputId": "2e6e6b92-e4f2-42ed-adce-8d0112ec1406"
      },
      "execution_count": null,
      "outputs": [
        {
          "output_type": "stream",
          "name": "stdout",
          "text": [
            "[0 0 0 1 2 3 0]\n"
          ]
        }
      ]
    },
    {
      "cell_type": "markdown",
      "source": [
        "**Splitting an array**"
      ],
      "metadata": {
        "id": "i1YngkUSCQvK"
      }
    },
    {
      "cell_type": "code",
      "source": [
        "x = np.array([1, 2, 3, 4, 5, 6])\n",
        "\n",
        "# split arr into 3 arrays\n",
        "arrays = np.split(x, 3)\n",
        "\n",
        "for a in arrays:\n",
        "  print(a)"
      ],
      "metadata": {
        "colab": {
          "base_uri": "https://localhost:8080/"
        },
        "id": "VkPGPeBxCRT6",
        "outputId": "adda689a-79be-4916-a7c6-13864e3e62c1"
      },
      "execution_count": null,
      "outputs": [
        {
          "output_type": "stream",
          "name": "stdout",
          "text": [
            "[1 2]\n",
            "[3 4]\n",
            "[5 6]\n"
          ]
        }
      ]
    },
    {
      "cell_type": "markdown",
      "source": [
        "**Identity matrix**"
      ],
      "metadata": {
        "id": "zukuEYTrYBzj"
      }
    },
    {
      "cell_type": "code",
      "source": [
        "x = np.identity(4)\n",
        "print(x)"
      ],
      "metadata": {
        "id": "lps7gOiDYBec",
        "outputId": "e6dedee6-a95a-47a5-dfe0-2bff3ac591ed",
        "colab": {
          "base_uri": "https://localhost:8080/"
        }
      },
      "execution_count": null,
      "outputs": [
        {
          "output_type": "stream",
          "name": "stdout",
          "text": [
            "[[1. 0. 0. 0.]\n",
            " [0. 1. 0. 0.]\n",
            " [0. 0. 1. 0.]\n",
            " [0. 0. 0. 1.]]\n"
          ]
        }
      ]
    },
    {
      "cell_type": "markdown",
      "source": [
        "**Saving an array to a file**"
      ],
      "metadata": {
        "id": "qgYbYkr5WotB"
      }
    },
    {
      "cell_type": "code",
      "source": [
        "x = np.array([22, 31, 0, 13, 2, 3, 74])\n",
        "\n",
        "# save the array to file\n",
        "np.save('myarray.npy', x)"
      ],
      "metadata": {
        "id": "lbKKwkzVWsPD"
      },
      "execution_count": null,
      "outputs": []
    },
    {
      "cell_type": "markdown",
      "source": [
        "**Load an array from a file**"
      ],
      "metadata": {
        "id": "oJGlugZrXQ77"
      }
    },
    {
      "cell_type": "code",
      "source": [
        "# load an array from file\n",
        "x = np.load('myarray.npy')\n",
        "\n",
        "# print the loaded array data\n",
        "print(x)"
      ],
      "metadata": {
        "colab": {
          "base_uri": "https://localhost:8080/"
        },
        "id": "_jUExo32XYjv",
        "outputId": "bc9116da-b0f0-4a0b-9b25-ddfeb1b2783e"
      },
      "execution_count": null,
      "outputs": [
        {
          "output_type": "stream",
          "name": "stdout",
          "text": [
            "[22 31  0 13  2  3 74]\n"
          ]
        }
      ]
    }
  ],
  "metadata": {
    "colab": {
      "provenance": [],
      "collapsed_sections": [
        "p7-b09w0QDk2",
        "sitXhntM4lP8",
        "-Xlyo-vvOH80",
        "zjp70WvtOCk8",
        "gyoyXrv4UR5C",
        "X9KAsLGTSrCm",
        "OSZtEOFBSylT"
      ],
      "include_colab_link": true
    },
    "kernelspec": {
      "display_name": "Python 3",
      "language": "python",
      "name": "python3"
    },
    "language_info": {
      "codemirror_mode": {
        "name": "ipython",
        "version": 3
      },
      "file_extension": ".py",
      "mimetype": "text/x-python",
      "name": "python",
      "nbconvert_exporter": "python",
      "pygments_lexer": "ipython3",
      "version": "3.7.6"
    }
  },
  "nbformat": 4,
  "nbformat_minor": 0
}